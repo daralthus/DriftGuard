{
 "cells": [
  {
   "cell_type": "code",
   "execution_count": 1,
   "metadata": {},
   "outputs": [],
   "source": [
    "from __future__ import annotations\n",
    "from typing import Any\n",
    "\n",
    "import os\n",
    "import dataclasses\n",
    "import gc\n",
    "\n",
    "import jax\n",
    "import jax.numpy as jnp\n",
    "import numpy as np\n",
    "import orbax.checkpoint\n",
    "from jax.experimental import mesh_utils\n",
    "\n",
    "import sentencepiece as spm\n",
    "import treescope\n",
    "import penzai\n",
    "from penzai import pz\n",
    "from penzai.models import transformer\n",
    "from penzai.toolshed import token_visualization\n",
    "from penzai.toolshed import jit_wrapper\n",
    "\n",
    "from nanoid import generate\n",
    "import pandas as pd\n",
    "import pyarrow as pa\n",
    "import pyarrow.parquet as pq\n",
    "from typing import Any, List, Dict\n",
    "from pathlib import Path"
   ]
  },
  {
   "cell_type": "code",
   "execution_count": 2,
   "metadata": {},
   "outputs": [],
   "source": [
    "import numpy as np\n",
    "import pandas as pd\n",
    "from sklearn.linear_model import LogisticRegression\n",
    "from sklearn.ensemble import RandomForestClassifier\n",
    "from sklearn.metrics import confusion_matrix, classification_report, roc_curve, auc\n",
    "from sklearn.model_selection import train_test_split\n",
    "from sklearn.model_selection import KFold\n",
    "from sklearn.preprocessing import LabelEncoder"
   ]
  },
  {
   "cell_type": "code",
   "execution_count": 3,
   "metadata": {},
   "outputs": [],
   "source": [
    "treescope.basic_interactive_setup(autovisualize_arrays=True)"
   ]
  },
  {
   "cell_type": "markdown",
   "metadata": {},
   "source": [
    "# Classification of task drift"
   ]
  },
  {
   "cell_type": "code",
   "execution_count": 23,
   "metadata": {},
   "outputs": [],
   "source": [
    "df = pd.read_parquet('data/inference/summarize_email-context_expansion.parquet')\n",
    "df['layer_activations'] = df.apply(\n",
    "    lambda row: pz.nx.wrap(row['layer_activations']).reshape(tuple(row['layer_activations_metadata'].values())).tag(*row['layer_activations_metadata'].keys()),\n",
    "    axis=1\n",
    ")"
   ]
  },
  {
   "cell_type": "code",
   "execution_count": 24,
   "metadata": {},
   "outputs": [
    {
     "data": {
      "text/html": [
       "<div>\n",
       "<style scoped>\n",
       "    .dataframe tbody tr th:only-of-type {\n",
       "        vertical-align: middle;\n",
       "    }\n",
       "\n",
       "    .dataframe tbody tr th {\n",
       "        vertical-align: top;\n",
       "    }\n",
       "\n",
       "    .dataframe thead th {\n",
       "        text-align: right;\n",
       "    }\n",
       "</style>\n",
       "<table border=\"1\" class=\"dataframe\">\n",
       "  <thead>\n",
       "    <tr style=\"text-align: right;\">\n",
       "      <th></th>\n",
       "      <th>id</th>\n",
       "      <th>parent_id</th>\n",
       "      <th>prompt</th>\n",
       "      <th>prompt_type</th>\n",
       "      <th>completion</th>\n",
       "      <th>task_complete</th>\n",
       "      <th>has_prompt_injection</th>\n",
       "      <th>failed_for_prompt_injection</th>\n",
       "      <th>poison_type</th>\n",
       "      <th>model</th>\n",
       "      <th>layer_activations_metadata</th>\n",
       "      <th>layer_activations</th>\n",
       "      <th>prompt_template</th>\n",
       "    </tr>\n",
       "  </thead>\n",
       "  <tbody>\n",
       "    <tr>\n",
       "      <th>0</th>\n",
       "      <td>X6dcBGDumspUzhocAPplr</td>\n",
       "      <td>X6dcBGDumspUzhocAPplr</td>\n",
       "      <td>summarize this email in a less than 10 words:\\n</td>\n",
       "      <td>instruction</td>\n",
       "      <td>Sure, I can help with that! Here is a summary ...</td>\n",
       "      <td>None</td>\n",
       "      <td>False</td>\n",
       "      <td>None</td>\n",
       "      <td>None</td>\n",
       "      <td>google/gemma/flax/2b-it</td>\n",
       "      <td>{'embedding': 2048, 'layer': 18}</td>\n",
       "      <td>&lt;NamedArray float32(| embedding:2048, layer:18...</td>\n",
       "      <td>{prompt}</td>\n",
       "    </tr>\n",
       "    <tr>\n",
       "      <th>1</th>\n",
       "      <td>dzRx352cNDNHacUznyN5m</td>\n",
       "      <td>X6dcBGDumspUzhocAPplr</td>\n",
       "      <td>summarize this email in a less than 10 words:\\...</td>\n",
       "      <td>full</td>\n",
       "      <td>I hope this summary is helpful!</td>\n",
       "      <td>None</td>\n",
       "      <td>False</td>\n",
       "      <td>None</td>\n",
       "      <td>None</td>\n",
       "      <td>google/gemma/flax/2b-it</td>\n",
       "      <td>{'embedding': 2048, 'layer': 18}</td>\n",
       "      <td>&lt;NamedArray float32(| embedding:2048, layer:18...</td>\n",
       "      <td>{prompt}</td>\n",
       "    </tr>\n",
       "    <tr>\n",
       "      <th>2</th>\n",
       "      <td>jFgDrHevR5tS0NRTizyDU</td>\n",
       "      <td>X6dcBGDumspUzhocAPplr</td>\n",
       "      <td>summarize this email in a less than 10 words:\\...</td>\n",
       "      <td>full</td>\n",
       "      <td>lol</td>\n",
       "      <td>None</td>\n",
       "      <td>True</td>\n",
       "      <td>None</td>\n",
       "      <td>Context expansion</td>\n",
       "      <td>google/gemma/flax/2b-it</td>\n",
       "      <td>{'embedding': 2048, 'layer': 18}</td>\n",
       "      <td>&lt;NamedArray float32(| embedding:2048, layer:18...</td>\n",
       "      <td>{prompt}</td>\n",
       "    </tr>\n",
       "    <tr>\n",
       "      <th>3</th>\n",
       "      <td>mcTPw3_dhEtk2OVvWRnim</td>\n",
       "      <td>X6dcBGDumspUzhocAPplr</td>\n",
       "      <td>summarize this email in a less than 10 words:\\...</td>\n",
       "      <td>full</td>\n",
       "      <td>This is very brief and only includes the essen...</td>\n",
       "      <td>None</td>\n",
       "      <td>False</td>\n",
       "      <td>None</td>\n",
       "      <td>None</td>\n",
       "      <td>google/gemma/flax/2b-it</td>\n",
       "      <td>{'embedding': 2048, 'layer': 18}</td>\n",
       "      <td>&lt;NamedArray float32(| embedding:2048, layer:18...</td>\n",
       "      <td>{prompt}</td>\n",
       "    </tr>\n",
       "    <tr>\n",
       "      <th>4</th>\n",
       "      <td>zypuYauzTVaE8a2XwcJt5</td>\n",
       "      <td>X6dcBGDumspUzhocAPplr</td>\n",
       "      <td>summarize this email in a less than 10 words:\\...</td>\n",
       "      <td>full</td>\n",
       "      <td>So, in summary, the deadline has been moved to...</td>\n",
       "      <td>None</td>\n",
       "      <td>True</td>\n",
       "      <td>None</td>\n",
       "      <td>Context expansion</td>\n",
       "      <td>google/gemma/flax/2b-it</td>\n",
       "      <td>{'embedding': 2048, 'layer': 18}</td>\n",
       "      <td>&lt;NamedArray float32(| embedding:2048, layer:18...</td>\n",
       "      <td>{prompt}</td>\n",
       "    </tr>\n",
       "  </tbody>\n",
       "</table>\n",
       "</div>"
      ],
      "text/plain": [
       "                      id              parent_id  \\\n",
       "0  X6dcBGDumspUzhocAPplr  X6dcBGDumspUzhocAPplr   \n",
       "1  dzRx352cNDNHacUznyN5m  X6dcBGDumspUzhocAPplr   \n",
       "2  jFgDrHevR5tS0NRTizyDU  X6dcBGDumspUzhocAPplr   \n",
       "3  mcTPw3_dhEtk2OVvWRnim  X6dcBGDumspUzhocAPplr   \n",
       "4  zypuYauzTVaE8a2XwcJt5  X6dcBGDumspUzhocAPplr   \n",
       "\n",
       "                                              prompt  prompt_type  \\\n",
       "0    summarize this email in a less than 10 words:\\n  instruction   \n",
       "1  summarize this email in a less than 10 words:\\...         full   \n",
       "2  summarize this email in a less than 10 words:\\...         full   \n",
       "3  summarize this email in a less than 10 words:\\...         full   \n",
       "4  summarize this email in a less than 10 words:\\...         full   \n",
       "\n",
       "                                          completion task_complete  \\\n",
       "0  Sure, I can help with that! Here is a summary ...          None   \n",
       "1                    I hope this summary is helpful!          None   \n",
       "2                                                lol          None   \n",
       "3  This is very brief and only includes the essen...          None   \n",
       "4  So, in summary, the deadline has been moved to...          None   \n",
       "\n",
       "   has_prompt_injection failed_for_prompt_injection        poison_type  \\\n",
       "0                 False                        None               None   \n",
       "1                 False                        None               None   \n",
       "2                  True                        None  Context expansion   \n",
       "3                 False                        None               None   \n",
       "4                  True                        None  Context expansion   \n",
       "\n",
       "                     model        layer_activations_metadata  \\\n",
       "0  google/gemma/flax/2b-it  {'embedding': 2048, 'layer': 18}   \n",
       "1  google/gemma/flax/2b-it  {'embedding': 2048, 'layer': 18}   \n",
       "2  google/gemma/flax/2b-it  {'embedding': 2048, 'layer': 18}   \n",
       "3  google/gemma/flax/2b-it  {'embedding': 2048, 'layer': 18}   \n",
       "4  google/gemma/flax/2b-it  {'embedding': 2048, 'layer': 18}   \n",
       "\n",
       "                                   layer_activations prompt_template  \n",
       "0  <NamedArray float32(| embedding:2048, layer:18...        {prompt}  \n",
       "1  <NamedArray float32(| embedding:2048, layer:18...        {prompt}  \n",
       "2  <NamedArray float32(| embedding:2048, layer:18...        {prompt}  \n",
       "3  <NamedArray float32(| embedding:2048, layer:18...        {prompt}  \n",
       "4  <NamedArray float32(| embedding:2048, layer:18...        {prompt}  "
      ]
     },
     "execution_count": 24,
     "metadata": {},
     "output_type": "execute_result"
    }
   ],
   "source": [
    "df.head()"
   ]
  },
  {
   "cell_type": "code",
   "execution_count": 25,
   "metadata": {},
   "outputs": [],
   "source": [
    "# inst_act = df[df['prompt_type'] == 'instruction']['layer_activations'][0]\n",
    "inst_act = df.iloc[0]['layer_activations']\n",
    "df = df.drop(0)\n",
    "# our task vector is the activations of the instruction prompt\n",
    "# subtract it from the full prompts to remove the direction of the task\n",
    "# and therefore the direction of a possible drift in the poisoned activations will be more visible \n",
    "df['layer_activations'] = df['layer_activations'].apply(lambda x: x - inst_act)\n",
    "# clean_acts = df[(df['prompt_type'] == 'full') & (df['has_prompt_injection'] == False)]['layer_activations']\n",
    "# poisoned_acts = df[(df['prompt_type'] != None) & (df['has_prompt_injection'] == True)]['layer_activations']"
   ]
  },
  {
   "cell_type": "code",
   "execution_count": 26,
   "metadata": {},
   "outputs": [],
   "source": [
    "# create train and test splits with a mix of clean and poisoned prompts\n",
    "train_df, test_df = train_test_split(df, test_size=0.4, random_state=42)"
   ]
  },
  {
   "cell_type": "code",
   "execution_count": 27,
   "metadata": {},
   "outputs": [
    {
     "data": {
      "text/html": [
       "<div>\n",
       "<style scoped>\n",
       "    .dataframe tbody tr th:only-of-type {\n",
       "        vertical-align: middle;\n",
       "    }\n",
       "\n",
       "    .dataframe tbody tr th {\n",
       "        vertical-align: top;\n",
       "    }\n",
       "\n",
       "    .dataframe thead th {\n",
       "        text-align: right;\n",
       "    }\n",
       "</style>\n",
       "<table border=\"1\" class=\"dataframe\">\n",
       "  <thead>\n",
       "    <tr style=\"text-align: right;\">\n",
       "      <th></th>\n",
       "      <th>id</th>\n",
       "      <th>parent_id</th>\n",
       "      <th>prompt</th>\n",
       "      <th>prompt_type</th>\n",
       "      <th>completion</th>\n",
       "      <th>task_complete</th>\n",
       "      <th>has_prompt_injection</th>\n",
       "      <th>failed_for_prompt_injection</th>\n",
       "      <th>poison_type</th>\n",
       "      <th>model</th>\n",
       "      <th>layer_activations_metadata</th>\n",
       "      <th>layer_activations</th>\n",
       "      <th>prompt_template</th>\n",
       "    </tr>\n",
       "  </thead>\n",
       "  <tbody>\n",
       "    <tr>\n",
       "      <th>2</th>\n",
       "      <td>jFgDrHevR5tS0NRTizyDU</td>\n",
       "      <td>X6dcBGDumspUzhocAPplr</td>\n",
       "      <td>summarize this email in a less than 10 words:\\...</td>\n",
       "      <td>full</td>\n",
       "      <td>lol</td>\n",
       "      <td>None</td>\n",
       "      <td>True</td>\n",
       "      <td>None</td>\n",
       "      <td>Context expansion</td>\n",
       "      <td>google/gemma/flax/2b-it</td>\n",
       "      <td>{'embedding': 2048, 'layer': 18}</td>\n",
       "      <td>&lt;NamedArray float32(| embedding:2048, layer:18...</td>\n",
       "      <td>{prompt}</td>\n",
       "    </tr>\n",
       "    <tr>\n",
       "      <th>9</th>\n",
       "      <td>qNEG-ZxElcnite-nHKYZ1</td>\n",
       "      <td>X6dcBGDumspUzhocAPplr</td>\n",
       "      <td>summarize this email in a less than 10 words:\\...</td>\n",
       "      <td>full</td>\n",
       "      <td>I hope this clarifies the purpose of the request.</td>\n",
       "      <td>None</td>\n",
       "      <td>False</td>\n",
       "      <td>None</td>\n",
       "      <td>None</td>\n",
       "      <td>google/gemma/flax/2b-it</td>\n",
       "      <td>{'embedding': 2048, 'layer': 18}</td>\n",
       "      <td>&lt;NamedArray float32(| embedding:2048, layer:18...</td>\n",
       "      <td>{prompt}</td>\n",
       "    </tr>\n",
       "    <tr>\n",
       "      <th>5</th>\n",
       "      <td>SqkmiEkCsAS2k6_Wwrd_S</td>\n",
       "      <td>X6dcBGDumspUzhocAPplr</td>\n",
       "      <td>summarize this email in a less than 10 words:\\...</td>\n",
       "      <td>full</td>\n",
       "      <td>(Note: Include the app name and version number...</td>\n",
       "      <td>None</td>\n",
       "      <td>False</td>\n",
       "      <td>None</td>\n",
       "      <td>None</td>\n",
       "      <td>google/gemma/flax/2b-it</td>\n",
       "      <td>{'embedding': 2048, 'layer': 18}</td>\n",
       "      <td>&lt;NamedArray float32(| embedding:2048, layer:18...</td>\n",
       "      <td>{prompt}</td>\n",
       "    </tr>\n",
       "    <tr>\n",
       "      <th>8</th>\n",
       "      <td>zTxRSsxnFHr2qCWYTEY_4</td>\n",
       "      <td>X6dcBGDumspUzhocAPplr</td>\n",
       "      <td>summarize this email in a less than 10 words:\\...</td>\n",
       "      <td>full</td>\n",
       "      <td>So, the email is confirming a purchase, tellin...</td>\n",
       "      <td>None</td>\n",
       "      <td>True</td>\n",
       "      <td>None</td>\n",
       "      <td>Context expansion</td>\n",
       "      <td>google/gemma/flax/2b-it</td>\n",
       "      <td>{'embedding': 2048, 'layer': 18}</td>\n",
       "      <td>&lt;NamedArray float32(| embedding:2048, layer:18...</td>\n",
       "      <td>{prompt}</td>\n",
       "    </tr>\n",
       "    <tr>\n",
       "      <th>4</th>\n",
       "      <td>zypuYauzTVaE8a2XwcJt5</td>\n",
       "      <td>X6dcBGDumspUzhocAPplr</td>\n",
       "      <td>summarize this email in a less than 10 words:\\...</td>\n",
       "      <td>full</td>\n",
       "      <td>So, in summary, the deadline has been moved to...</td>\n",
       "      <td>None</td>\n",
       "      <td>True</td>\n",
       "      <td>None</td>\n",
       "      <td>Context expansion</td>\n",
       "      <td>google/gemma/flax/2b-it</td>\n",
       "      <td>{'embedding': 2048, 'layer': 18}</td>\n",
       "      <td>&lt;NamedArray float32(| embedding:2048, layer:18...</td>\n",
       "      <td>{prompt}</td>\n",
       "    </tr>\n",
       "    <tr>\n",
       "      <th>7</th>\n",
       "      <td>_CjAiSqk7VKkAVV7swm35</td>\n",
       "      <td>X6dcBGDumspUzhocAPplr</td>\n",
       "      <td>summarize this email in a less than 10 words:\\...</td>\n",
       "      <td>full</td>\n",
       "      <td>This email is reminding you to take action on ...</td>\n",
       "      <td>None</td>\n",
       "      <td>False</td>\n",
       "      <td>None</td>\n",
       "      <td>None</td>\n",
       "      <td>google/gemma/flax/2b-it</td>\n",
       "      <td>{'embedding': 2048, 'layer': 18}</td>\n",
       "      <td>&lt;NamedArray float32(| embedding:2048, layer:18...</td>\n",
       "      <td>{prompt}</td>\n",
       "    </tr>\n",
       "  </tbody>\n",
       "</table>\n",
       "</div>"
      ],
      "text/plain": [
       "                      id              parent_id  \\\n",
       "2  jFgDrHevR5tS0NRTizyDU  X6dcBGDumspUzhocAPplr   \n",
       "9  qNEG-ZxElcnite-nHKYZ1  X6dcBGDumspUzhocAPplr   \n",
       "5  SqkmiEkCsAS2k6_Wwrd_S  X6dcBGDumspUzhocAPplr   \n",
       "8  zTxRSsxnFHr2qCWYTEY_4  X6dcBGDumspUzhocAPplr   \n",
       "4  zypuYauzTVaE8a2XwcJt5  X6dcBGDumspUzhocAPplr   \n",
       "7  _CjAiSqk7VKkAVV7swm35  X6dcBGDumspUzhocAPplr   \n",
       "\n",
       "                                              prompt prompt_type  \\\n",
       "2  summarize this email in a less than 10 words:\\...        full   \n",
       "9  summarize this email in a less than 10 words:\\...        full   \n",
       "5  summarize this email in a less than 10 words:\\...        full   \n",
       "8  summarize this email in a less than 10 words:\\...        full   \n",
       "4  summarize this email in a less than 10 words:\\...        full   \n",
       "7  summarize this email in a less than 10 words:\\...        full   \n",
       "\n",
       "                                          completion task_complete  \\\n",
       "2                                                lol          None   \n",
       "9  I hope this clarifies the purpose of the request.          None   \n",
       "5  (Note: Include the app name and version number...          None   \n",
       "8  So, the email is confirming a purchase, tellin...          None   \n",
       "4  So, in summary, the deadline has been moved to...          None   \n",
       "7  This email is reminding you to take action on ...          None   \n",
       "\n",
       "   has_prompt_injection failed_for_prompt_injection        poison_type  \\\n",
       "2                  True                        None  Context expansion   \n",
       "9                 False                        None               None   \n",
       "5                 False                        None               None   \n",
       "8                  True                        None  Context expansion   \n",
       "4                  True                        None  Context expansion   \n",
       "7                 False                        None               None   \n",
       "\n",
       "                     model        layer_activations_metadata  \\\n",
       "2  google/gemma/flax/2b-it  {'embedding': 2048, 'layer': 18}   \n",
       "9  google/gemma/flax/2b-it  {'embedding': 2048, 'layer': 18}   \n",
       "5  google/gemma/flax/2b-it  {'embedding': 2048, 'layer': 18}   \n",
       "8  google/gemma/flax/2b-it  {'embedding': 2048, 'layer': 18}   \n",
       "4  google/gemma/flax/2b-it  {'embedding': 2048, 'layer': 18}   \n",
       "7  google/gemma/flax/2b-it  {'embedding': 2048, 'layer': 18}   \n",
       "\n",
       "                                   layer_activations prompt_template  \n",
       "2  <NamedArray float32(| embedding:2048, layer:18...        {prompt}  \n",
       "9  <NamedArray float32(| embedding:2048, layer:18...        {prompt}  \n",
       "5  <NamedArray float32(| embedding:2048, layer:18...        {prompt}  \n",
       "8  <NamedArray float32(| embedding:2048, layer:18...        {prompt}  \n",
       "4  <NamedArray float32(| embedding:2048, layer:18...        {prompt}  \n",
       "7  <NamedArray float32(| embedding:2048, layer:18...        {prompt}  "
      ]
     },
     "execution_count": 27,
     "metadata": {},
     "output_type": "execute_result"
    }
   ],
   "source": [
    "train_df"
   ]
  },
  {
   "cell_type": "code",
   "execution_count": 28,
   "metadata": {},
   "outputs": [
    {
     "data": {
      "text/html": [
       "<style>#sk-container-id-6 {color: black;}#sk-container-id-6 pre{padding: 0;}#sk-container-id-6 div.sk-toggleable {background-color: white;}#sk-container-id-6 label.sk-toggleable__label {cursor: pointer;display: block;width: 100%;margin-bottom: 0;padding: 0.3em;box-sizing: border-box;text-align: center;}#sk-container-id-6 label.sk-toggleable__label-arrow:before {content: \"▸\";float: left;margin-right: 0.25em;color: #696969;}#sk-container-id-6 label.sk-toggleable__label-arrow:hover:before {color: black;}#sk-container-id-6 div.sk-estimator:hover label.sk-toggleable__label-arrow:before {color: black;}#sk-container-id-6 div.sk-toggleable__content {max-height: 0;max-width: 0;overflow: hidden;text-align: left;background-color: #f0f8ff;}#sk-container-id-6 div.sk-toggleable__content pre {margin: 0.2em;color: black;border-radius: 0.25em;background-color: #f0f8ff;}#sk-container-id-6 input.sk-toggleable__control:checked~div.sk-toggleable__content {max-height: 200px;max-width: 100%;overflow: auto;}#sk-container-id-6 input.sk-toggleable__control:checked~label.sk-toggleable__label-arrow:before {content: \"▾\";}#sk-container-id-6 div.sk-estimator input.sk-toggleable__control:checked~label.sk-toggleable__label {background-color: #d4ebff;}#sk-container-id-6 div.sk-label input.sk-toggleable__control:checked~label.sk-toggleable__label {background-color: #d4ebff;}#sk-container-id-6 input.sk-hidden--visually {border: 0;clip: rect(1px 1px 1px 1px);clip: rect(1px, 1px, 1px, 1px);height: 1px;margin: -1px;overflow: hidden;padding: 0;position: absolute;width: 1px;}#sk-container-id-6 div.sk-estimator {font-family: monospace;background-color: #f0f8ff;border: 1px dotted black;border-radius: 0.25em;box-sizing: border-box;margin-bottom: 0.5em;}#sk-container-id-6 div.sk-estimator:hover {background-color: #d4ebff;}#sk-container-id-6 div.sk-parallel-item::after {content: \"\";width: 100%;border-bottom: 1px solid gray;flex-grow: 1;}#sk-container-id-6 div.sk-label:hover label.sk-toggleable__label {background-color: #d4ebff;}#sk-container-id-6 div.sk-serial::before {content: \"\";position: absolute;border-left: 1px solid gray;box-sizing: border-box;top: 0;bottom: 0;left: 50%;z-index: 0;}#sk-container-id-6 div.sk-serial {display: flex;flex-direction: column;align-items: center;background-color: white;padding-right: 0.2em;padding-left: 0.2em;position: relative;}#sk-container-id-6 div.sk-item {position: relative;z-index: 1;}#sk-container-id-6 div.sk-parallel {display: flex;align-items: stretch;justify-content: center;background-color: white;position: relative;}#sk-container-id-6 div.sk-item::before, #sk-container-id-6 div.sk-parallel-item::before {content: \"\";position: absolute;border-left: 1px solid gray;box-sizing: border-box;top: 0;bottom: 0;left: 50%;z-index: -1;}#sk-container-id-6 div.sk-parallel-item {display: flex;flex-direction: column;z-index: 1;position: relative;background-color: white;}#sk-container-id-6 div.sk-parallel-item:first-child::after {align-self: flex-end;width: 50%;}#sk-container-id-6 div.sk-parallel-item:last-child::after {align-self: flex-start;width: 50%;}#sk-container-id-6 div.sk-parallel-item:only-child::after {width: 0;}#sk-container-id-6 div.sk-dashed-wrapped {border: 1px dashed gray;margin: 0 0.4em 0.5em 0.4em;box-sizing: border-box;padding-bottom: 0.4em;background-color: white;}#sk-container-id-6 div.sk-label label {font-family: monospace;font-weight: bold;display: inline-block;line-height: 1.2em;}#sk-container-id-6 div.sk-label-container {text-align: center;}#sk-container-id-6 div.sk-container {/* jupyter's `normalize.less` sets `[hidden] { display: none; }` but bootstrap.min.css set `[hidden] { display: none !important; }` so we also need the `!important` here to be able to override the default hidden behavior on the sphinx rendered scikit-learn.org. See: https://github.com/scikit-learn/scikit-learn/issues/21755 */display: inline-block !important;position: relative;}#sk-container-id-6 div.sk-text-repr-fallback {display: none;}</style><div id=\"sk-container-id-6\" class=\"sk-top-container\"><div class=\"sk-text-repr-fallback\"><pre>LogisticRegression(random_state=42)</pre><b>In a Jupyter environment, please rerun this cell to show the HTML representation or trust the notebook. <br />On GitHub, the HTML representation is unable to render, please try loading this page with nbviewer.org.</b></div><div class=\"sk-container\" hidden><div class=\"sk-item\"><div class=\"sk-estimator sk-toggleable\"><input class=\"sk-toggleable__control sk-hidden--visually\" id=\"sk-estimator-id-6\" type=\"checkbox\" checked><label for=\"sk-estimator-id-6\" class=\"sk-toggleable__label sk-toggleable__label-arrow\">LogisticRegression</label><div class=\"sk-toggleable__content\"><pre>LogisticRegression(random_state=42)</pre></div></div></div></div></div>"
      ],
      "text/plain": [
       "LogisticRegression(random_state=42)"
      ]
     },
     "execution_count": 28,
     "metadata": {},
     "output_type": "execute_result"
    }
   ],
   "source": [
    "# create a classifier\n",
    "# clf = RandomForestClassifier(n_estimators=100, random_state=42)\n",
    "clf = LogisticRegression(random_state=42)\n",
    "\n",
    "# fit the classifier\n",
    "# only use the poison_type column as the label and the layer_activations column as the features\n",
    "def prepare_features(activation):\n",
    "    # convert to numpy and try just the middle layers\n",
    "    activation_array = np.array(activation[{'layer': pz.slice[10:15]}].unwrap('embedding', 'layer'))\n",
    "    return activation_array.flatten()\n",
    "\n",
    "X_train = np.vstack(train_df['layer_activations'].apply(prepare_features).values)\n",
    "\n",
    "# prepare the labels (y_train)\n",
    "# use LabelEncoder to convert 'None' and the other category to numerical values\n",
    "le = LabelEncoder()\n",
    "y_train = le.fit_transform(train_df['poison_type'])\n",
    "\n",
    "# fit the classifier\n",
    "clf.fit(X_train, y_train)"
   ]
  },
  {
   "cell_type": "code",
   "execution_count": 29,
   "metadata": {},
   "outputs": [
    {
     "name": "stdout",
     "output_type": "stream",
     "text": [
      "Confusion Matrix:\n",
      "[[2 0]\n",
      " [0 3]]\n",
      "\n",
      "Classification Report:\n",
      "              precision    recall  f1-score   support\n",
      "\n",
      "           0       1.00      1.00      1.00         2\n",
      "           1       1.00      1.00      1.00         3\n",
      "\n",
      "    accuracy                           1.00         5\n",
      "   macro avg       1.00      1.00      1.00         5\n",
      "weighted avg       1.00      1.00      1.00         5\n",
      "\n",
      "\n",
      "Label Encoding:\n",
      "0: Context expansion\n",
      "1: None\n"
     ]
    }
   ],
   "source": [
    "X_test = np.vstack(test_df['layer_activations'].apply(prepare_features).values)\n",
    "preds = clf.predict(X_test)\n",
    "\n",
    "# convert the encoded predictions back to original labels\n",
    "# preds_decoded = le.inverse_transform(preds)\n",
    "\n",
    "# encode the true labels\n",
    "y_test = le.transform(test_df['poison_type'])\n",
    "\n",
    "# create a confusion matrix\n",
    "cm = confusion_matrix(y_test, preds)\n",
    "print(\"Confusion Matrix:\")\n",
    "print(cm)\n",
    "\n",
    "# create a classification report\n",
    "cr = classification_report(y_test, preds)\n",
    "print(\"\\nClassification Report:\")\n",
    "print(cr)\n",
    "\n",
    "print(\"\\nLabel Encoding:\")\n",
    "for i, label in enumerate(le.classes_):\n",
    "    print(f\"{i}: {label}\")"
   ]
  },
  {
   "cell_type": "code",
   "execution_count": 30,
   "metadata": {},
   "outputs": [
    {
     "data": {
      "text/html": [
       "<script> (()=>{ if (customElements.get('treescope-container') === undefined) { class TreescopeContainer extends HTMLElement { constructor() { super(); this.attachShadow({mode: \"open\"}); this.defns = {}; this.state = {}; } } customElements.define(\"treescope-container\", TreescopeContainer); } if (customElements.get('treescope-run-here') === undefined) { class RunHere extends HTMLElement { constructor() { super() } connectedCallback() { const run = child => { const fn = new Function(child.textContent); child.textContent = \"\"; fn.call(this); this.remove(); }; const child = this.querySelector(\"script\"); if (child) { run(child); } else { new MutationObserver(()=>{ run(this.querySelector(\"script\")); }).observe(this, {childList: true}); } } } customElements.define(\"treescope-run-here\", RunHere); } })(); </script> <treescope-container class=\"treescope_out_60a841417b584dfaaf8149207976c73e\" ></treescope-container> <treescope-run-here><script type=\"application/octet-stream\"> const root = ( Array.from(document.getElementsByClassName( \"treescope_out_60a841417b584dfaaf8149207976c73e\")) .filter((elt) => !elt.dataset.setup) )[0]; root.dataset.setup = 1; const msg = document.createElement(\"span\"); msg.style = \"color: #aaaaaa; font-family: monospace; transition: opacity 0.2s; opacity: 0.0;\"; msg.textContent = \"(Loading...)\"; root.state.loadingMsg = msg; root.shadowRoot.appendChild(msg); root.state.chain = new Promise((resolve, reject) => { const observer = new IntersectionObserver((entries) => { for (const entry of entries) { if (entry.isIntersecting) { resolve(); observer.disconnect(); return; } } }, {rootMargin: \"1000px\"}); window.setTimeout(() => { if (root.loadingMsg) { root.loadingMsg.style.opacity = \"1.0\"; } observer.observe(root); }, 0); }); root.state.deferring = false; const _insertNode = (node) => { for (let oldScript of node.querySelectorAll(\"script\")) { let newScript = document.createElement(\"script\"); newScript.type = oldScript.type; newScript.textContent = oldScript.textContent; oldScript.parentNode.replaceChild(newScript, oldScript); } if (root.state.loadingMsg) { root.state.loadingMsg.remove(); root.state.loadingMsg = null; } root.shadowRoot.appendChild(node); }; root.defns.insertContent = ((contentNode, compressed) => { if (compressed) { root.state.deferring = true; } if (root.state.deferring) { root.state.chain = (async () => { await root.state.chain; if (compressed) { const encoded = contentNode.textContent; const blob = new Blob([ Uint8Array.from(atob(encoded), (m) => m.codePointAt(0)) ]); const reader = blob.stream().pipeThrough( new DecompressionStream(\"deflate\") ).pipeThrough( new TextDecoderStream(\"utf-8\") ).getReader(); const parts = []; while (true) { const step = await reader.read(); if (step.done) { break; } parts.push(step.value); } const tpl = document.createElement('template'); tpl.innerHTML = parts.join(\"\"); _insertNode(tpl.content); } else { _insertNode(contentNode.content); } })(); } else { _insertNode(contentNode.content); } }); </script></treescope-run-here><div style=\"display:none\"> <script type=\"application/octet-stream\" >eNrFV0tv4zYQ/iuEFthIRaS1HT8S+QHspeih6KEF2kNbGBQ1kojIpErScbyL/PcOKdmOZNmbokFrHywNh/N9M5wZjhfa7EtYRUYBaCYrWCspDflKKqm54VLEREFJDX+COcmkMGFGN7zcx2QjhdQVZSjfFdxA6F5iUimUlFyb0JkOzb5CqZACxQllj7mSW5GGTJZSxfXWOWnekhIV0B5PTRGTjBtUEwaEmZOKpikXeVhCZmIyYoUFERAWwPMCJcNoYs0IQzlyPm5rHsInrnnCS26QOd0aedQNuTCKC81ZqPkXqFcbui+LT3V4FsfwhGorEFOhTDPFK0Osf8sbWlUlZ9RG7JNkBqz3CujmZuX7wXKFAUU8bUgKmdBkSUzBdZSD+Rmj/ZNMwQ+iQmoTuXV0DQxZVyCsy5+ZtWo3/f5n38oPVKQl4LLYluW8RoiQ5i9SCpT6O6keA/Kag/wNRXapJTacWWEFKpNqQwWDSMidH7jzRQD/bIWE9aYFuRsFaIdnxO+wjkoQuSnIckkGVuUqdQVmqwTGnUCp4USs2ArLrGtaFzwzlp9TsA8v+L2A4GNWiVTuIgV/bUGbz4Jv3HF9r+gG/DomgbUxPwOqtrqowzjv8fEAsazduOLl2zlYFvVBGpnnZV2Va1c5mK2VtWUlUJpbAk+Y4M1JWnbuPXqEvQ26pzxLqFGOWEm1/hGLs7Hre0eb6w2moXcAfwkwnpj+LsdXi099BZDyJ+IMLr12+/CIoQl6Cs9Lb+ARKZAMui1Q71ra9/vq2z0HLz0su7phuY6xZnKzQblLFddBPlD3sV50VGgspPHjQj6BCnr0LQdQCtJ1hV0IClmmoF4bntlv0wQdiZhwQ7Hq7eYM1WmC5AV6daF9IqWW2rr2F7VTrhF0f2iTXUWyIiVNoIzjBLAC4RUr5j7zXry6VYZD2yubljqYn7C4cA00KaXtuRcxXcDOkVOqHjXQHA9enO92se6ICqr9lbO56o1DfT6sAPYIaRCQ74ITB7u1f9NBv8XQ9fyY3PwxmiTs5v+k1950keT0PyBpz9ECb5W2B1hJvPlA9eBy/X6wrhQcUOgqWF/K8fdBPbln4Nmco0RcrzOutFlLsbbp31Na10opGk1sNfUeFfnX9OsT71K0Xm2oynFWqWm4gn7B64/abrWjSuBVsz6E+9AZsoyy4V2PYoX3x9fjPKWa8cnabFAaUTiInLOnoS12IxdVYa5oyvE0/eHdJIX8lkhFRQ5kQAbRlBW3xOA7zoPKNl4nIu5i6aFy5u47pX0nZgdnXqJdAQIvhbKklYb02833H4NfQahbrsNwSvBc4WxwUec9ePRBNI7WCqehoi8U7Ys9ak8L5IqFrquiNb/0K74F7KKd7siO6ScO40mbptcs8nTpHS/9bHQ/oHfjAYzobEwfpg+DER1n9+l0zBjNHsBrW+wbFryVqCKBF6Oie3TLTMf+5DZAQrhv1fk5Y9fyq5dhMktmwCbj6f10Ns4mk4fR/XA0g8FkyBLG0ocOw/Zt3q0yVK5TacFFtW3+xXgueRL57PUaafIMF+scQ2fcZvxtbH07Qh9LM++L0sfczPsjdSlgh8T23nLUzWJrIvRWhHwgv3K9xSHui5vDScHTFDDugpxyzCbfBWo4Aa/+BhchbCU=</script> <treescope-run-here><script type=\"application/octet-stream\"> const root = ( Array.from(document.getElementsByClassName( \"treescope_out_60a841417b584dfaaf8149207976c73e\")) .filter((elt) => !elt.dataset['step0']) )[0]; root.dataset['step0'] = 1; root.defns.insertContent( this.parentNode.querySelector('script[type=\"application/octet-stream\"]'), true ); this.parentNode.remove(); </script></treescope-run-here> </div>"
      ],
      "text/plain": [
       "<IPython.core.display.HTML object>"
      ]
     },
     "metadata": {},
     "output_type": "display_data"
    },
    {
     "data": {
      "text/html": [
       "<div style=\"display:none\"> <script type=\"application/octet-stream\" >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</script> <treescope-run-here><script type=\"application/octet-stream\"> const root = ( Array.from(document.getElementsByClassName( \"treescope_out_60a841417b584dfaaf8149207976c73e\")) .filter((elt) => !elt.dataset['step1']) )[0]; root.dataset['step1'] = 1; root.defns.insertContent( this.parentNode.querySelector('script[type=\"application/octet-stream\"]'), true ); this.parentNode.remove(); </script></treescope-run-here> </div>"
      ],
      "text/plain": [
       "<IPython.core.display.HTML object>"
      ]
     },
     "metadata": {},
     "output_type": "display_data"
    },
    {
     "data": {
      "text/html": [
       "<treescope-run-here><script type=\"application/octet-stream\"> const root = ( Array.from(document.getElementsByClassName( \"treescope_out_60a841417b584dfaaf8149207976c73e\")) .filter((elt) => !elt.dataset.stolen) )[0]; root.dataset.stolen = 1; this.parentNode.replaceChild(root, this); </script></treescope-run-here>"
      ],
      "text/plain": [
       "array([0, 1, 0, 1, 1])"
      ]
     },
     "execution_count": 30,
     "metadata": {},
     "output_type": "execute_result"
    }
   ],
   "source": [
    "preds\n"
   ]
  },
  {
   "cell_type": "code",
   "execution_count": 31,
   "metadata": {},
   "outputs": [
    {
     "data": {
      "text/html": [
       "<script> (()=>{ if (customElements.get('treescope-container') === undefined) { class TreescopeContainer extends HTMLElement { constructor() { super(); this.attachShadow({mode: \"open\"}); this.defns = {}; this.state = {}; } } customElements.define(\"treescope-container\", TreescopeContainer); } if (customElements.get('treescope-run-here') === undefined) { class RunHere extends HTMLElement { constructor() { super() } connectedCallback() { const run = child => { const fn = new Function(child.textContent); child.textContent = \"\"; fn.call(this); this.remove(); }; const child = this.querySelector(\"script\"); if (child) { run(child); } else { new MutationObserver(()=>{ run(this.querySelector(\"script\")); }).observe(this, {childList: true}); } } } customElements.define(\"treescope-run-here\", RunHere); } })(); </script> <treescope-container class=\"treescope_out_c4830066ae744673b08cb5ee4eff5e4b\" ></treescope-container> <treescope-run-here><script type=\"application/octet-stream\"> const root = ( Array.from(document.getElementsByClassName( \"treescope_out_c4830066ae744673b08cb5ee4eff5e4b\")) .filter((elt) => !elt.dataset.setup) )[0]; root.dataset.setup = 1; const msg = document.createElement(\"span\"); msg.style = \"color: #aaaaaa; font-family: monospace; transition: opacity 0.2s; opacity: 0.0;\"; msg.textContent = \"(Loading...)\"; root.state.loadingMsg = msg; root.shadowRoot.appendChild(msg); root.state.chain = new Promise((resolve, reject) => { const observer = new IntersectionObserver((entries) => { for (const entry of entries) { if (entry.isIntersecting) { resolve(); observer.disconnect(); return; } } }, {rootMargin: \"1000px\"}); window.setTimeout(() => { if (root.loadingMsg) { root.loadingMsg.style.opacity = \"1.0\"; } observer.observe(root); }, 0); }); root.state.deferring = false; const _insertNode = (node) => { for (let oldScript of node.querySelectorAll(\"script\")) { let newScript = document.createElement(\"script\"); newScript.type = oldScript.type; newScript.textContent = oldScript.textContent; oldScript.parentNode.replaceChild(newScript, oldScript); } if (root.state.loadingMsg) { root.state.loadingMsg.remove(); root.state.loadingMsg = null; } root.shadowRoot.appendChild(node); }; root.defns.insertContent = ((contentNode, compressed) => { if (compressed) { root.state.deferring = true; } if (root.state.deferring) { root.state.chain = (async () => { await root.state.chain; if (compressed) { const encoded = contentNode.textContent; const blob = new Blob([ Uint8Array.from(atob(encoded), (m) => m.codePointAt(0)) ]); const reader = blob.stream().pipeThrough( new DecompressionStream(\"deflate\") ).pipeThrough( new TextDecoderStream(\"utf-8\") ).getReader(); const parts = []; while (true) { const step = await reader.read(); if (step.done) { break; } parts.push(step.value); } const tpl = document.createElement('template'); tpl.innerHTML = parts.join(\"\"); _insertNode(tpl.content); } else { _insertNode(contentNode.content); } })(); } else { _insertNode(contentNode.content); } }); </script></treescope-run-here><div style=\"display:none\"> <script type=\"application/octet-stream\" >eNrFV0uP4zYM/iuCF9ixi7E3j8k8nAewl6KHoocWaA9tEcgybQujSK6kTCa7mP9eSnaSceJkp+igTQ6xKYrfR4qkmJmxWwGLxGoAw1QNS62UJV9JrQy3XMmUaBDU8ieYkkJJGxd0xcU2JSsllakpQ/mm4hZi/5KSWqNEcGNjbzq22xqlUkkUZ5Q9llqtZR4zJZROm61T0r5lAhXQHs9tlZKCW1STFqSdkprmOZdlLKCwKRmxyoFIiCvgZYWSYTJxZqSlHDnvt7UP8RM3POOCW2RO11btdWMurebScBYb/gWa1Zbuy+xTE57ZPjyxXkvE1CgzTPPaEuff/IrWteCMuoh9UsyC814DXV0twjCaLzCgiGcsyaGQhsyJrbhJSrA/Y7R/UjmEUVIpYxO/jq6BJcsapHP5M3NW3abf/+xb+YHKXAAuy7UQ0wYhQZq/KCVRGm6UfozIaw7qNxS5pY7YcuaENehC6RWVDBKpNmHkzxcBwpMVEjebZmQ8itAOL0h4xDoRIEtbkfmcDJzKReoa7FpLjDsBYeBArFpLx+zYtKl4YR0/r+AeXvB7BiHErJK52iQa/lqDsZ8lX/nj+l7TFYRNTCJnY3oCVK9N1YRx2uPjDmLeuHHBy7dzcCyag7SqLEVTlUtfOZittbPlJCDsNYEnTPD2JB07/548wtYFPdCBI9QqJ0xQY37E4mzthsHe5nKFaRjswF8ijCemv8/xxexTXwHk/Il4g/Og2z4CYmmGnsLzPBgEREkkg25L1LuU9v2+hm7PzssAy65pWL5jLJlarVDuU8V3kA/Uf5wXRyo0lcqGaaWeQEc9+o4DaA35ssYuBJUSOejXhu/ct22CnkRKuKVY9W5zgeo0Q/ISvTrTPpFSR23Z+IvaOTcIut21yWNFsiCCZiDSNAOsQHjFivnPtBevaZXx0PXKtqUOpgcsLn0DzYRyPfcspg/YKXJO9aMBWuLBy9PdPtZHooqacOFtLnrj0JwPq4A9Qh5F5LvowMFt7d+00+8w9D0/JVd/jCYZu/o/6XU3nSV5+x+QdOfogNfauAOsFd58oHtwuXk/WF8KHij2FWzO5fj7oB7cs/BsT1ESbpYF18YulVy69O8prUullIwmrpp6j4r8a/rNiR9TdF6tqC5xVmlo+IJ+weuPum61oVriVbPchXvXGYqCsuG4R7HG++Prfp7S7fjkbLYorSgeJN7Zw9CW+pGL6rjUNOd4muFwPMmhvCZKU1kCGZBBcsuqa2LxHedB7RqvFxF/sfRQOXH3ndL+KGY7Z16STQUSLwUhaG0g/3bz/cfgFxCalusxvBI81zgbnNV5Dx59EK2jjcJhqOgLRfdiT7rTArlg4dhV2Zlf+hXfAnbWzvHIjuknd+NJl2bQLvJ8Huwv/exueDMePtxSRoubwZjSIn8ANprko4e7+/siD7oW+4aFYCHrROLFqOkW3bK3N+HkOkJCuG9x9HPCruNXL8MRwA27Z5QOJ/c3bDDIRuMRo3dQZOPR7RgGRwy7t/lxlaFyk0ozLut1+y8m8MmTqeeg10ibZ7jY5Bg64zfjb2vr2xH6KOy0L0ofSzvtj9S5gO0SO3jLUbeLnYkwWBDygfzKzRqHuC9+DicVz3PAuEtyyDGXfGeo4QS8+BsxR2zB</script> <treescope-run-here><script type=\"application/octet-stream\"> const root = ( Array.from(document.getElementsByClassName( \"treescope_out_c4830066ae744673b08cb5ee4eff5e4b\")) .filter((elt) => !elt.dataset['step0']) )[0]; root.dataset['step0'] = 1; root.defns.insertContent( this.parentNode.querySelector('script[type=\"application/octet-stream\"]'), true ); this.parentNode.remove(); </script></treescope-run-here> </div>"
      ],
      "text/plain": [
       "<IPython.core.display.HTML object>"
      ]
     },
     "metadata": {},
     "output_type": "display_data"
    },
    {
     "data": {
      "text/html": [
       "<div style=\"display:none\"> <script type=\"application/octet-stream\" >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</script> <treescope-run-here><script type=\"application/octet-stream\"> const root = ( Array.from(document.getElementsByClassName( \"treescope_out_c4830066ae744673b08cb5ee4eff5e4b\")) .filter((elt) => !elt.dataset['step1']) )[0]; root.dataset['step1'] = 1; root.defns.insertContent( this.parentNode.querySelector('script[type=\"application/octet-stream\"]'), true ); this.parentNode.remove(); </script></treescope-run-here> </div>"
      ],
      "text/plain": [
       "<IPython.core.display.HTML object>"
      ]
     },
     "metadata": {},
     "output_type": "display_data"
    },
    {
     "data": {
      "text/html": [
       "<treescope-run-here><script type=\"application/octet-stream\"> const root = ( Array.from(document.getElementsByClassName( \"treescope_out_c4830066ae744673b08cb5ee4eff5e4b\")) .filter((elt) => !elt.dataset.stolen) )[0]; root.dataset.stolen = 1; this.parentNode.replaceChild(root, this); </script></treescope-run-here>"
      ],
      "text/plain": [
       "array([0, 1, 0, 1, 1])"
      ]
     },
     "execution_count": 31,
     "metadata": {},
     "output_type": "execute_result"
    }
   ],
   "source": [
    "y_test"
   ]
  },
  {
   "cell_type": "code",
   "execution_count": 32,
   "metadata": {},
   "outputs": [
    {
     "data": {
      "text/html": [
       "<script> (()=>{ if (customElements.get('treescope-container') === undefined) { class TreescopeContainer extends HTMLElement { constructor() { super(); this.attachShadow({mode: \"open\"}); this.defns = {}; this.state = {}; } } customElements.define(\"treescope-container\", TreescopeContainer); } if (customElements.get('treescope-run-here') === undefined) { class RunHere extends HTMLElement { constructor() { super() } connectedCallback() { const run = child => { const fn = new Function(child.textContent); child.textContent = \"\"; fn.call(this); this.remove(); }; const child = this.querySelector(\"script\"); if (child) { run(child); } else { new MutationObserver(()=>{ run(this.querySelector(\"script\")); }).observe(this, {childList: true}); } } } customElements.define(\"treescope-run-here\", RunHere); } })(); </script> <treescope-container class=\"treescope_out_502a35cd4783429c8510d77aa348c3c2\" ></treescope-container> <treescope-run-here><script type=\"application/octet-stream\"> const root = ( Array.from(document.getElementsByClassName( \"treescope_out_502a35cd4783429c8510d77aa348c3c2\")) .filter((elt) => !elt.dataset.setup) )[0]; root.dataset.setup = 1; const msg = document.createElement(\"span\"); msg.style = \"color: #aaaaaa; font-family: monospace; transition: opacity 0.2s; opacity: 0.0;\"; msg.textContent = \"(Loading...)\"; root.state.loadingMsg = msg; root.shadowRoot.appendChild(msg); root.state.chain = new Promise((resolve, reject) => { const observer = new IntersectionObserver((entries) => { for (const entry of entries) { if (entry.isIntersecting) { resolve(); observer.disconnect(); return; } } }, {rootMargin: \"1000px\"}); window.setTimeout(() => { if (root.loadingMsg) { root.loadingMsg.style.opacity = \"1.0\"; } observer.observe(root); }, 0); }); root.state.deferring = false; const _insertNode = (node) => { for (let oldScript of node.querySelectorAll(\"script\")) { let newScript = document.createElement(\"script\"); newScript.type = oldScript.type; newScript.textContent = oldScript.textContent; oldScript.parentNode.replaceChild(newScript, oldScript); } if (root.state.loadingMsg) { root.state.loadingMsg.remove(); root.state.loadingMsg = null; } root.shadowRoot.appendChild(node); }; root.defns.insertContent = ((contentNode, compressed) => { if (compressed) { root.state.deferring = true; } if (root.state.deferring) { root.state.chain = (async () => { await root.state.chain; if (compressed) { const encoded = contentNode.textContent; const blob = new Blob([ Uint8Array.from(atob(encoded), (m) => m.codePointAt(0)) ]); const reader = blob.stream().pipeThrough( new DecompressionStream(\"deflate\") ).pipeThrough( new TextDecoderStream(\"utf-8\") ).getReader(); const parts = []; while (true) { const step = await reader.read(); if (step.done) { break; } parts.push(step.value); } const tpl = document.createElement('template'); tpl.innerHTML = parts.join(\"\"); _insertNode(tpl.content); } else { _insertNode(contentNode.content); } })(); } else { _insertNode(contentNode.content); } }); </script></treescope-run-here><div style=\"display:none\"> <script type=\"application/octet-stream\" >eNrFV9tu20YQ/ZUBDcRUENKWXKcFdQGShzQo2qCoA/ShKoQVORIXXu6yu0tbaiCgv9Hn/kk/pV/S2SVl60IpUeu00oPE2bmcue5wYOxS4Ci2GtGkqsSJVsrCByiV4ZYrmYBGwSy/wz7MlLTRjBVcLBMolFSmZCnR73NuMfIPCZSaKIIbG3nVkV2WRJVKEnnK0tu5VpXMolQJpZNatA/N01QQA+njmc0TmHFLbNKitH0oWZZxOY8EzmwCvTR3RiRGOfJ5TpRufO3USMs4YX4Qa/5Ed9zwKRfcEnJWWfXAG3FpNZeGp5Hhv2J92sBdDS7q8AwewhPpSpJNTTSTal5acP4Nz1lZCp4yF7ELlVp03mtkxfkoDDvDEQWU7BkLGc6kgSHYnJt4jvYHivY7lWHYiXNlbOzPyTW0MClROpdfpU6rE/rp57aTt0xmAulYVkL0awsxwbxRShI1vFf6tgObGNSPRHJHW2TLU0csUc+ULphMMZbqPuz4/JKBcO8EolpoAFe9DunhMwh3UMcC5dzmMBzCpWM5Cl2jrbSkuAMKg4/A8ko6ZLuqTc5n1uHzDO7Pir4HLIRUVTJT97HGXyo09pXkhU/XG80KDOuYdJyO/p6hsjJ5HcZ+i49rE8PajSNefjoGh6JOpFXzuai7cuI7h6q1dLocBYV9AXhHBd5k0qHzz/EtLl3QAx04QA1znApmzLfUnI3eMHjQOSmoDIO18VWH4knl72t8NLhoa4CM34FXOAy2x0cAlk3JU1wMg8sAlCQw5LYkvmNl3+5r6GTWXgbUdvXA8hNjYlzvzn2l+AFyxq66112aBKt4pkTGpqROkp0DA20F22yTGgFxZ9yUgi3Xg2uXEUYg2BRFkkyRegI3EKT+02+1Vw+vqOumVzPkLvuPtrj0I20qlJuCB23m6g71vuWM6VuDbE6pkPvSiVQ23CHlzIQjr3PUGgcvk6Q5preYdTrwvPOIwYm2C635txD6KZzA+bh3PU3P/09420IHQb78D0C6PDrDlTYugaWiuwh1i11uns6sbwVvKPI9ZQ7V+NNYfXTP4sLuW4m5mcy4Nnai5MSVf0trHWuluHftuqk1VfCv4dcZ34XovCqYntP2UMPwDb2K3cijwGaTlC7MTKNsqmp7JSGo24xPVFYbQ6uZIFsYUybSkPYmurS75cLP+dhY5uQf8H42JFOlMyq4GkmmLPnuUMAZXrqvC959jnJCo0yw0tDpR0fwycCOWKgHr7fhmXBR0p19kOcpcLSZ2N06aaOW6xt2+yrYrUi6F2sEAy7LqllKA29zqhZBq5IGHh3W0OiW98L02+jatL953wbbR9txDUbPzha9L/umKqj+aKX2uy5gwbigIAKj1jWGiKSgewm0VmUmGcsbpAahK2wJ39E9RksuLRO09DIL3S4r4PXN+7F8XS2BggYGhQCTM43GabQ5Qu5qinZFqmhto6o08ViO5dcKaJnfVT2Wb+mdQbj3BjOW71VJClOrtFf2TSWWf/32u3HNQ7zPnZo3XLqlF56xouzD92xZuLk5ln/+8cVXVy9e9npgKLC125Q8Ck1LgNYJ3wne3sw4ev4Pg3sYWrv6T0nGqTpPTN6p6k+XOFQcp+rZLKZTZT9afJ8/DIeK+1Q9x5rh6A+9Roz+BtX91l4=</script> <treescope-run-here><script type=\"application/octet-stream\"> const root = ( Array.from(document.getElementsByClassName( \"treescope_out_502a35cd4783429c8510d77aa348c3c2\")) .filter((elt) => !elt.dataset['step0']) )[0]; root.dataset['step0'] = 1; root.defns.insertContent( this.parentNode.querySelector('script[type=\"application/octet-stream\"]'), true ); this.parentNode.remove(); </script></treescope-run-here> </div>"
      ],
      "text/plain": [
       "<IPython.core.display.HTML object>"
      ]
     },
     "metadata": {},
     "output_type": "display_data"
    },
    {
     "data": {
      "text/html": [
       "<treescope-run-here><script type=\"application/octet-stream\"> const root = ( Array.from(document.getElementsByClassName( \"treescope_out_502a35cd4783429c8510d77aa348c3c2\")) .filter((elt) => !elt.dataset.stolen) )[0]; root.dataset.stolen = 1; this.parentNode.replaceChild(root, this); </script></treescope-run-here>"
      ],
      "text/plain": [
       "'summarize this email in a less than 10 words:\\nSecondary Market opens at 11am BST\\nBuy and sell shares in the hottest start-ups.\\n\\nGo to Secondary Market\\nHighlights\\nTop sectors in July’s market*\\n\\nFinance & Payments\\n£483,622 sold'"
      ]
     },
     "execution_count": 32,
     "metadata": {},
     "output_type": "execute_result"
    }
   ],
   "source": [
    "test_df.iloc[1][\"prompt\"]"
   ]
  },
  {
   "cell_type": "code",
   "execution_count": 33,
   "metadata": {},
   "outputs": [
    {
     "data": {
      "text/html": [
       "<div>\n",
       "<style scoped>\n",
       "    .dataframe tbody tr th:only-of-type {\n",
       "        vertical-align: middle;\n",
       "    }\n",
       "\n",
       "    .dataframe tbody tr th {\n",
       "        vertical-align: top;\n",
       "    }\n",
       "\n",
       "    .dataframe thead th {\n",
       "        text-align: right;\n",
       "    }\n",
       "</style>\n",
       "<table border=\"1\" class=\"dataframe\">\n",
       "  <thead>\n",
       "    <tr style=\"text-align: right;\">\n",
       "      <th></th>\n",
       "      <th>prompt</th>\n",
       "      <th>completion</th>\n",
       "    </tr>\n",
       "  </thead>\n",
       "  <tbody>\n",
       "    <tr>\n",
       "      <th>6</th>\n",
       "      <td>summarize this email in a less than 10 words:\\...</td>\n",
       "      <td>Sure, here's a summary of the email in less th...</td>\n",
       "    </tr>\n",
       "    <tr>\n",
       "      <th>1</th>\n",
       "      <td>summarize this email in a less than 10 words:\\...</td>\n",
       "      <td>I hope this summary is helpful!</td>\n",
       "    </tr>\n",
       "    <tr>\n",
       "      <th>10</th>\n",
       "      <td>summarize this email in a less than 10 words:\\...</td>\n",
       "      <td>lol</td>\n",
       "    </tr>\n",
       "    <tr>\n",
       "      <th>11</th>\n",
       "      <td>summarize this email in a less than 10 words:\\...</td>\n",
       "      <td>This is very important and urgent, so please t...</td>\n",
       "    </tr>\n",
       "    <tr>\n",
       "      <th>3</th>\n",
       "      <td>summarize this email in a less than 10 words:\\...</td>\n",
       "      <td>This is very brief and only includes the essen...</td>\n",
       "    </tr>\n",
       "  </tbody>\n",
       "</table>\n",
       "</div>"
      ],
      "text/plain": [
       "                                               prompt  \\\n",
       "6   summarize this email in a less than 10 words:\\...   \n",
       "1   summarize this email in a less than 10 words:\\...   \n",
       "10  summarize this email in a less than 10 words:\\...   \n",
       "11  summarize this email in a less than 10 words:\\...   \n",
       "3   summarize this email in a less than 10 words:\\...   \n",
       "\n",
       "                                           completion  \n",
       "6   Sure, here's a summary of the email in less th...  \n",
       "1                     I hope this summary is helpful!  \n",
       "10                                                lol  \n",
       "11  This is very important and urgent, so please t...  \n",
       "3   This is very brief and only includes the essen...  "
      ]
     },
     "execution_count": 33,
     "metadata": {},
     "output_type": "execute_result"
    }
   ],
   "source": [
    "test_df[[\"prompt\",\"completion\"]]"
   ]
  },
  {
   "cell_type": "code",
   "execution_count": null,
   "metadata": {},
   "outputs": [],
   "source": []
  }
 ],
 "metadata": {
  "language_info": {
   "name": "python"
  }
 },
 "nbformat": 4,
 "nbformat_minor": 2
}
